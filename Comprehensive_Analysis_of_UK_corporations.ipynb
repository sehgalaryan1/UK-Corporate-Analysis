{
  "cells": [
    {
      "cell_type": "markdown",
      "metadata": {
        "id": "view-in-github",
        "colab_type": "text"
      },
      "source": [
        "<a href=\"https://colab.research.google.com/github/sehgalaryan1/UK-Corporate-Analysis/blob/main/Comprehensive_Analysis_of_UK_corporations.ipynb\" target=\"_parent\"><img src=\"https://colab.research.google.com/assets/colab-badge.svg\" alt=\"Open In Colab\"/></a>"
      ]
    },
    {
      "cell_type": "markdown",
      "source": [
        "\n",
        "#**Comprehensive Analysis of Corporate Structure and Financial Health in the UK**\n"
      ],
      "metadata": {
        "id": "MzuzX1S3y_eH"
      },
      "id": "MzuzX1S3y_eH"
    },
    {
      "cell_type": "markdown",
      "source": [
        "*Team 09 - Aryan Sehgal, Kaushiki Tiwary, Siddhant Nayar, Yash Kothari, Yashna Meher, Yifeng Chen.*"
      ],
      "metadata": {
        "id": "XuQhtpPZ02Dh"
      },
      "id": "XuQhtpPZ02Dh"
    },
    {
      "cell_type": "markdown",
      "source": [
        "# Executive Summary"
      ],
      "metadata": {
        "id": "ZX8JhjDQ1uyh"
      },
      "id": "ZX8JhjDQ1uyh"
    },
    {
      "cell_type": "markdown",
      "source": [
        "This analysis provides an in-depth examination of UK companies using data from Companies House, with particular focus on company types, incorporation trends, officer demographics, ownership patterns, and financial performance across industry sectors. Key findings include:\n",
        "Company Composition and Incorporation Trends: The UK has 19 distinct company types, with private limited companies dominating at 93%. A significant rise in incorporations occurred between 2014 and 2024, particularly in technology and modern service sectors, reflecting shifts in market demand.\n",
        "\n",
        "* **Private Limited Companies Dominate**:\n",
        "Private limited companies account for 93% of all businesses, underscoring their pivotal role in the UK’s economic framework. This structure is particularly favored by SMEs for its flexibility, ease of management, and protection through limited liability. The dominance of private limited companies highlights their importance in driving employment, innovation, and regional economic growth.\n",
        "\n",
        "* **Jurisdictional and Industry Trends:**\n",
        "England and Wales are at the heart of the UK’s business activity, hosting the majority of companies. This centrality is attributed to their favorable infrastructure, regulatory environment, and larger consumer markets. Emerging industries such as technology, healthcare, and renewable energy are experiencing significant growth, reflecting the economy’s shift towards innovation and sustainability. Conversely, traditional sectors like manufacturing are seeing declines, signaling a need for modernization and support to compete in a rapidly evolving market.\n",
        "\n",
        "* **Leadership Diversity:**\n",
        "Leadership within UK companies showcases significant diversity, with non-British nationals playing important roles in managerial and technical positions. Ownership trends also vary by nationality, with officers from the UK, US, and Ireland showing higher ownership rates. This diversity highlights the UK’s ability to attract global talent and the need to foster inclusivity in leadership and ownership to maximize its potential.\n",
        "\n",
        "* **Financial Strength in Key Sectors:**\n",
        "Financially robust sectors like finance, utilities, and real estate lead in total assets, demonstrating their stability and critical role in sustaining the UK’s economy. These sectors exhibit high capital intensity and are central to economic resilience, contributing significantly to GDP and employment. The asset concentration in these sectors also reflects opportunities for further investment and growth.\n",
        "\n",
        "* **Economic Challenges:**\n",
        "Rising company dissolution rates, particularly over the past decade, indicate challenges such as regulatory pressures, economic instability, and market competition. Traditional industries are facing greater risks, while SMEs struggle with financial constraints and market adaptation. These trends emphasize the importance of targeted policy interventions, support for SMEs, and fostering innovation in emerging sectors to ensure long-term economic growth and resilience."
      ],
      "metadata": {
        "id": "efjFJ3Lf1xAG"
      },
      "id": "efjFJ3Lf1xAG"
    },
    {
      "cell_type": "markdown",
      "source": [
        "# Storyline"
      ],
      "metadata": {
        "id": "cg7hZKiXntce"
      },
      "id": "cg7hZKiXntce"
    },
    {
      "cell_type": "markdown",
      "source": [
        "**Resilience and Transformation: Insights into the UK’s Evolving Corporate Landscape Amid Global Challenges**\n",
        "\n",
        "The UK’s corporate landscape tells a story of resilience and adaptability amidst transformative global and domestic challenges. Private limited companies dominate the business ecosystem, with England and Wales emerging as the epicenter of corporate activity, reflecting their strategic importance. Leadership trends reveal an encouraging shift towards inclusivity, mirroring the nation’s broader social progress. Yet, the twin disruptions of Brexit and the COVID-19 pandemic have fundamentally reshaped the corporate environment, with company incorporations spiking by 300% between 2014 and 2024. Brexit introduced trade barriers, reduced foreign direct investment, and created labor shortages, pushing businesses to innovate, diversify markets, and accommodate a growing international ownership presence—particularly from American and Irish stakeholders, who play a significant role in the economy.\n",
        "\n",
        "Despite these challenges, high-growth sectors such as finance, technology, renewable energy, and healthcare have emerged as beacons of progress, driven by the nation’s pivot toward sustainability and digital transformation. Conversely, sectors like commerce and trade, R&D, and IT have experienced shorter company lifespans and higher dissolution rates, concentrated predominantly in jurisdictions like England and Wales.\n",
        "\n",
        "For the UK government, this analysis highlights the urgency of crafting clear regulatory frameworks and policies that support sustainable industries and uphold global competitiveness. For investors, it presents a wealth of opportunities in emerging regional hubs and resilient sectors, including finance, IT, real estate, and construction. This comprehensive analysis offers actionable insights to guide strategic decision-making, ensuring the UK retains its position as a global leader in innovation, economic resilience, and sustainable growth."
      ],
      "metadata": {
        "id": "AL3fOzNGnBeX"
      },
      "id": "AL3fOzNGnBeX"
    },
    {
      "cell_type": "markdown",
      "source": [
        "#**1. Project Objective**"
      ],
      "metadata": {
        "id": "KhaWY5y-05e1"
      },
      "id": "KhaWY5y-05e1"
    },
    {
      "cell_type": "markdown",
      "source": [
        "The present project will analyze UK corporate registration and financial data in order to unearth trends related to corporate structure, industry resilience, and economic wellbeing. We will examine the distribution of company types, such as private limited and public companies, to identify concerning dominant business structures and how they have developed temporally. Next, the project explores the roles of corporate officers as leadership trends impacting company performance.\n",
        "\n",
        "Subsequently, we shall analyze active and dissolved companies within various SIC divisions to gauge industry resilience and market stability, allowing for an analysis of external economic factors affecting longevity. Finally, the project will study foreign ownership to identify industries that draw international investors; thus revealing key economic and strategic drivers.\n",
        "\n",
        "The findings will inform policymakers, investors, and business leaders, helping them use this knowledge for sound decision-making towards fostering sustainable growth and innovation in the UK economy."
      ],
      "metadata": {
        "id": "HHy4hsAA0rZZ"
      },
      "id": "HHy4hsAA0rZZ"
    },
    {
      "cell_type": "markdown",
      "source": [
        "#**2. Data Source**"
      ],
      "metadata": {
        "id": "O31U2yU41L-m"
      },
      "id": "O31U2yU41L-m"
    },
    {
      "cell_type": "markdown",
      "source": [
        "Source: [Kaggle - UK Corporate data. Companies House](https://www.kaggle.com/datasets/rzykov/uk-corporate-data-company-house-2023/data)\n",
        "\n",
        "Dataset Overview: This dataset provides comprehensive information on UK companies, including registration details, financial data, ownership structures, management, and the latest filings. The dataset is current up to 2024.\n",
        "\n"
      ],
      "metadata": {
        "id": "oGQm5V1P1OgW"
      },
      "id": "oGQm5V1P1OgW"
    },
    {
      "cell_type": "markdown",
      "source": [
        "#**3. Motivation**"
      ],
      "metadata": {
        "id": "ZMiFAU4Z1Vxh"
      },
      "id": "ZMiFAU4Z1Vxh"
    },
    {
      "cell_type": "markdown",
      "source": [
        "For students and researchers alike, understanding what makes companies succeed or fail is key in an economy that’s always changing. This project was born out of the curiosity to look beyond the surface of company data and see what factors help some businesses thrive while others struggle. With industries constantly evolving, especially in the face of global changes, this dataset provides a chance to understand the UK business landscape in depth. By exploring patterns like ownership trends across nationalities, survival rates by industry, and shifts in company types over decades, our project aims to transform data into meaningful insights.\n",
        "\n",
        "The motivation also comes from a desire to provide insights that can be valuable for real-world decision-making. By uncovering which industries are resilient and how different ownership structures perform, this project could serve as a guide for policymakers and investors looking to make informed choices. Ultimately, the findings from this project could help drive smarter strategies for economic growth and sustainability, making this analysis a step towards a clearer and more connected understanding of the business world.\n",
        "\n",
        "**Expected Outcome:**\n",
        "*  Financial Health Visualization: Visualizations that show the financial health across different industries, corporate structures, and regions.\n",
        "\n",
        "* Data-Driven Insights and Strategic Recommendations: Recommendations for investors, regulatory bodies, and policymakers based on data insights, supporting informed decision-making.\n",
        "\n"
      ],
      "metadata": {
        "id": "Yq6dmHV91Yb9"
      },
      "id": "Yq6dmHV91Yb9"
    },
    {
      "cell_type": "markdown",
      "source": [
        "#**4. Column Descriptions**"
      ],
      "metadata": {
        "id": "QuNC2yI2zel3"
      },
      "id": "QuNC2yI2zel3"
    },
    {
      "cell_type": "markdown",
      "source": [
        "**Companies**\n",
        "\n",
        "| Column                           | Description                                                                                                  |\n",
        "|-----------------------------------|--------------------------------------------------------------------------------------------------------------|\n",
        "| company_number                    | Unique identifier for each company.                                                                           |\n",
        "| company_type                      | Type of company (e.g., private limited, public limited).                                                      |\n",
        "| office_address                    | Registered office address of the company.                                                                     |\n",
        "| incorporation_date                | Date the company was incorporated.                                                                            |\n",
        "| jurisdiction                      | Legal jurisdiction in which the company is registered.                                                        |\n",
        "| company_status                    | Current operational status of the company (e.g., active, dissolved).                                           |\n",
        "| account_type                      | Type of accounts filed by the company.                                                                        |\n",
        "| company_name                      | Official name of the company.                                                                                 |\n",
        "| sic_codes                         | Standard Industrial Classification codes that describe the company’s business activities.                     |\n",
        "| date_of_cessation                 | Date when the company ceased operations, if applicable.                                                       |\n",
        "| next_accounts_overdue             | Indicator of whether the company’s next accounts filing is overdue.                                            |\n",
        "| confirmation_statement_overdue    | Indicator of whether the company’s confirmation statement is overdue.                                          |\n",
        "| owners                            | Number of registered owners or persons with significant control over the company.                              |\n",
        "| officers                          | Number of officers (directors, secretaries) associated with the company.                                       |\n",
        "| average_number_employees_during_period | Average number of employees during the company’s last accounting period.                                |\n",
        "| current_assets                    | Value of the company’s current assets as per the last accounts.                                                |\n",
        "| last_accounts_period_end          | End date of the company’s most recent accounting period.                                                       |\n",
        "| company_url                       | Web link where you can check up-to-date company information (free registration required).                      |\n"
      ],
      "metadata": {
        "id": "w-YkDDuozbHi"
      },
      "id": "w-YkDDuozbHi"
    },
    {
      "cell_type": "markdown",
      "source": [
        "**Companies SIC codes**\n",
        "\n",
        "| **Field Name**     | **Description**                                                                                      |\n",
        "|--------------------|------------------------------------------------------------------------------------------------------|\n",
        "| **company_number**  | Unique identifier assigned to each company, used for company registration and tracking purposes.      |\n",
        "| **sic_code**        | Standard Industrial Classification (SIC) code that categorizes the company based on its primary business activity. |\n",
        "| **sic_description** | A detailed description of the SIC code, providing more information about the company’s industry classification. |\n",
        "| **sic_section**     | Broad classification section of the SIC code, representing a higher-level industry grouping.           |\n",
        "| **sic_division**    | More specific division within the SIC section, giving further details about the company’s activity.    |\n",
        "| **company_url**     | A link where up-to-date company information can be accessed. Free registration may be required.        |\n"
      ],
      "metadata": {
        "id": "TFdl5R2BsmQz"
      },
      "id": "TFdl5R2BsmQz"
    },
    {
      "cell_type": "markdown",
      "source": [
        "**Officers and Owners**\n",
        "\n",
        "| **Field Name**        | **Description**                                                                                             |\n",
        "|-----------------------|-------------------------------------------------------------------------------------------------------------|\n",
        "| **company_number**     | Company identifier.                                                                                         |\n",
        "| **name**               | Full name of the officer or owner.                                                                          |\n",
        "| **kind**               | Type of person (individual or corporate entity).                                                            |\n",
        "| **officer_role**       | Role within the company.                                                                                   |\n",
        "| **occupation**         | Occupation of the individual.                                                                               |\n",
        "| **date**               | Date of appointment or notification.                                                                        |\n",
        "| **is_owner**           | Boolean indicating if the person is an owner.                                                               |\n",
        "| **country_of_residence**| Country where the individual resides.                                                                       |\n",
        "| **nationality**        | Nationality of the individual.                                                                              |\n",
        "| **company_country**    | Country of the company (for corporate persons).                                                             |\n",
        "| **person_id**          | Unique identifier for the person.                                                                           |\n",
        "| **person_url**         | Link where up-to-date company information can be accessed (free registration required).                     |\n"
      ],
      "metadata": {
        "id": "zqam_XNgsx3X"
      },
      "id": "zqam_XNgsx3X"
    },
    {
      "cell_type": "markdown",
      "source": [
        "**Filings**\n",
        "\n",
        "| **Field**         | **Description**                                                                 |\n",
        "|-------------------|---------------------------------------------------------------------------------|\n",
        "| company_number    | Unique identifier for the company.                                               |\n",
        "| date              | Date of the filing or event.                                                     |\n",
        "| category          | Category of the filing, indicating the type of document submitted (e.g., accounts, confirmation statement, mortgage, etc.). |\n",
        "| pages             | Number of pages in the filing document.                                          |\n",
        "| description       | Detailed description of the filing, outlining its purpose and content.           |"
      ],
      "metadata": {
        "id": "F5N32yHis480"
      },
      "id": "F5N32yHis480"
    },
    {
      "cell_type": "markdown",
      "source": [
        "**ER Diagram**"
      ],
      "metadata": {
        "id": "31wRFyybgv5e"
      },
      "id": "31wRFyybgv5e"
    },
    {
      "cell_type": "code",
      "source": [
        "from IPython import display\n",
        "display.Image(\"ERD_final.png\")"
      ],
      "metadata": {
        "id": "RgjladMVgzun"
      },
      "id": "RgjladMVgzun",
      "execution_count": null,
      "outputs": []
    },
    {
      "cell_type": "markdown",
      "source": [
        "#**5. Data Cleaning**"
      ],
      "metadata": {
        "id": "D82ZLN6MhAyK"
      },
      "id": "D82ZLN6MhAyK"
    },
    {
      "cell_type": "markdown",
      "source": [
        "**1. Companies**"
      ],
      "metadata": {
        "id": "WHulIG20hTqF"
      },
      "id": "WHulIG20hTqF"
    },
    {
      "cell_type": "code",
      "source": [
        "%%bigquery\n",
        "-- Check the number of NULL values in the table\n",
        "SELECT\n",
        "  COUNT(CASE WHEN company_number IS NULL THEN 1 END) AS company_number_null,\n",
        "  COUNT(CASE WHEN company_type IS NULL THEN 1 END) AS company_type_null,\n",
        "  COUNT(CASE WHEN office_address IS NULL THEN 1 END) AS office_address_null,\n",
        "  COUNT(CASE WHEN incorporation_date IS NULL THEN 1 END) AS incorporation_date_null,\n",
        "  COUNT(CASE WHEN jurisdiction IS NULL THEN 1 END) AS jurisdiction_null,\n",
        "  COUNT(CASE WHEN company_status IS NULL THEN 1 END) AS company_status_null,\n",
        "  COUNT(CASE WHEN account_type IS NULL THEN 1 END) AS account_type_null,\n",
        "  COUNT(CASE WHEN company_name IS NULL THEN 1 END) AS company_name_null,\n",
        "  COUNT(CASE WHEN sic_codes IS NULL THEN 1 END) AS sic_codes_null,\n",
        "  COUNT(CASE WHEN date_of_cessation IS NULL THEN 1 END) AS date_of_cessation_null,\n",
        "  COUNT(CASE WHEN next_accounts_overdue IS NULL THEN 1 END) AS next_accounts_overdue_null,\n",
        "  COUNT(CASE WHEN confirmation_statement_overdue IS NULL THEN 1 END) AS confirmation_statement_overdue_null,\n",
        "  COUNT(CASE WHEN owners IS NULL THEN 1 END) AS owners_null,\n",
        "  COUNT(CASE WHEN officers IS NULL THEN 1 END) AS officers_null,\n",
        "  COUNT(CASE WHEN average_number_employees_during_period IS NULL THEN 1 END) AS average_number_employees_during_period_null,\n",
        "  COUNT(CASE WHEN current_assets IS NULL THEN 1 END) AS current_assets_null,\n",
        "  COUNT(CASE WHEN last_accounts_period_end IS NULL THEN 1 END) AS last_accounts_period_end_null,\n",
        "  COUNT(CASE WHEN company_url IS NULL THEN 1 END) AS company_url_null\n",
        "FROM `ba775-a-09.ba775_a09.companies`;"
      ],
      "metadata": {
        "id": "kLATkcLHhyj2"
      },
      "id": "kLATkcLHhyj2",
      "execution_count": null,
      "outputs": []
    },
    {
      "cell_type": "code",
      "source": [
        "%%bigquery\n",
        "-- Create a cleaned table copy\n",
        "CREATE OR REPLACE TABLE `ba775_a09.companies_cleaned` AS\n",
        "SELECT\n",
        " company_number,\n",
        " company_type,\n",
        " office_address,\n",
        " jurisdiction,\n",
        " company_status,\n",
        " CAST(incorporation_date AS DATE) AS incorporation_date,\n",
        " company_name,\n",
        " REGEXP_EXTRACT(sic_codes, r'\\d+') AS sic_code,\n",
        " CAST(owners AS INT64) AS owners,\n",
        " CAST(officers AS INT64) AS officers,\n",
        " CAST(current_assets AS FLOAT64) AS current_assets,\n",
        " CAST(date_of_cessation AS DATE) AS date_of_cessation\n",
        "FROM\n",
        " `ba775-a-09.ba775_a09.companies`\n",
        "WHERE\n",
        " jurisdiction IS NOT NULL\n",
        " AND company_name IS NOT null"
      ],
      "metadata": {
        "id": "Wxgu_YGECYsA"
      },
      "id": "Wxgu_YGECYsA",
      "execution_count": null,
      "outputs": []
    },
    {
      "cell_type": "code",
      "source": [
        "%%bigquery\n",
        "-- Partitioning the data based on years\n",
        "CREATE OR REPLACE TABLE `ba775_a09.companies_cleaned_partitioned_by_year`\n",
        "PARTITION BY DATE_TRUNC(incorporation_date, YEAR)\n",
        "AS\n",
        "SELECT\n",
        "  *\n",
        "FROM `ba775_a09.companies_cleaned`;"
      ],
      "metadata": {
        "id": "SD3V5A6MKqRf"
      },
      "id": "SD3V5A6MKqRf",
      "execution_count": null,
      "outputs": []
    },
    {
      "cell_type": "markdown",
      "source": [
        "**2.Companies with SIC codes**"
      ],
      "metadata": {
        "id": "FJ7irSJ2hla5"
      },
      "id": "FJ7irSJ2hla5"
    },
    {
      "cell_type": "code",
      "source": [
        "%%bigquery\n",
        "-- Check the number of NULL values in table\n",
        "SELECT\n",
        "  COUNT(CASE WHEN company_number IS NULL THEN 1 END) AS company_number_null,\n",
        "  COUNT(CASE WHEN sic_code IS NULL THEN 1 END) AS sic_code_null,\n",
        "  COUNT(CASE WHEN sic_description IS NULL THEN 1 END) AS sic_description_null,\n",
        "  COUNT(CASE WHEN sic_section IS NULL THEN 1 END) AS sic_section_null,\n",
        "  COUNT(CASE WHEN sic_division IS NULL THEN 1 END) AS sic_division_null\n",
        "FROM `ba775-a-09.ba775_a09.companies_sic_code`;"
      ],
      "metadata": {
        "id": "uI9LCa-1ieA7"
      },
      "id": "uI9LCa-1ieA7",
      "execution_count": null,
      "outputs": []
    },
    {
      "cell_type": "code",
      "source": [
        "%%bigquery\n",
        "-- Creating a cleaned table\n",
        "CREATE OR REPLACE TABLE\n",
        " `ba775_a09.companies_sic_code_cleaned` AS\n",
        "SELECT\n",
        " company_number,\n",
        " sic_code,\n",
        " sic_description,\n",
        " sic_section,\n",
        " sic_division\n",
        "FROM\n",
        " `ba775-a-09.ba775_a09.companies_sic_code`\n",
        "WHERE\n",
        " sic_code <> '00000'"
      ],
      "metadata": {
        "id": "uQvERLZiDMMU"
      },
      "id": "uQvERLZiDMMU",
      "execution_count": null,
      "outputs": []
    },
    {
      "cell_type": "markdown",
      "source": [
        "**3. Filings**"
      ],
      "metadata": {
        "id": "urC00THRhsjc"
      },
      "id": "urC00THRhsjc"
    },
    {
      "cell_type": "code",
      "id": "uEULHx5R0VkjMrsTSQIf4LXb",
      "metadata": {
        "tags": [],
        "id": "uEULHx5R0VkjMrsTSQIf4LXb"
      },
      "source": [
        "%%bigquery\n",
        "-- Check the number of NULL values in table\n",
        "SELECT\n",
        "  COUNT(CASE WHEN company_number IS NULL THEN 1 END) AS company_number_null,\n",
        "  COUNT(CASE WHEN date IS NULL THEN 1 END) AS date_null,\n",
        "  COUNT(CASE WHEN category IS NULL THEN 1 END) AS category_null,\n",
        "  COUNT(CASE WHEN pages IS NULL THEN 1 END) AS pages_null,\n",
        "  COUNT(CASE WHEN description IS NULL THEN 1 END) AS description_null\n",
        "FROM `ba775-a-09.ba775_a09.filings`;"
      ],
      "execution_count": null,
      "outputs": []
    },
    {
      "cell_type": "code",
      "source": [
        "%%bigquery\n",
        "-- Creating a clean table\n",
        "CREATE OR REPLACE TABLE\n",
        " `ba775_a09.fillings_cleaned` AS\n",
        "SELECT\n",
        " company_number,\n",
        " CAST(date AS DATE) AS date,\n",
        " category,\n",
        " CAST(pages AS INT64) AS pages,\n",
        "FROM\n",
        " `ba775-a-09.ba775_a09.filings`\n",
        "WHERE\n",
        " category IS NOT NULL"
      ],
      "metadata": {
        "id": "a8ESPmImCsvu"
      },
      "id": "a8ESPmImCsvu",
      "execution_count": null,
      "outputs": []
    },
    {
      "cell_type": "markdown",
      "source": [
        "**4. Officers and Owners**"
      ],
      "metadata": {
        "id": "c8yvyV5UifJ3"
      },
      "id": "c8yvyV5UifJ3"
    },
    {
      "cell_type": "code",
      "source": [
        "%%bigquery\n",
        "--Checking the NULL values in the table\n",
        "SELECT\n",
        "  COUNT(CASE WHEN company_number IS NULL THEN 1 END) AS company_number_null,\n",
        "  COUNT(CASE WHEN name IS NULL THEN 1 END) AS name_null,\n",
        "  COUNT(CASE WHEN kind IS NULL THEN 1 END) AS kind_null,\n",
        "  COUNT(CASE WHEN officer_role IS NULL THEN 1 END) AS officer_role_null,\n",
        "  COUNT(CASE WHEN occupation IS NULL THEN 1 END) AS occupation_null,\n",
        "  COUNT(CASE WHEN date IS NULL THEN 1 END) AS date_null,\n",
        "  COUNT(CASE WHEN is_owner IS NULL THEN 1 END) AS is_owner_null,\n",
        "  COUNT(CASE WHEN country_of_residence IS NULL THEN 1 END) AS country_of_residence_null,\n",
        "  COUNT(CASE WHEN nationality IS NULL THEN 1 END) AS nationality_null,\n",
        "  COUNT(CASE WHEN company_country IS NULL THEN 1 END) AS company_country_null,\n",
        "  COUNT(CASE WHEN person_id IS NULL THEN 1 END) AS person_id_null,\n",
        "  COUNT(CASE WHEN person_url IS NULL THEN 1 END) AS person_url_null\n",
        "FROM ba775-a-09.ba775_a09.officers_and_owners;\n"
      ],
      "metadata": {
        "id": "h7RYhSAiierq"
      },
      "id": "h7RYhSAiierq",
      "execution_count": null,
      "outputs": []
    },
    {
      "cell_type": "code",
      "source": [
        "%%bigquery\n",
        "-- Creating a cleaned table\n",
        "CREATE OR REPLACE TABLE `ba775_a09.officers_and_owners_cleaned` AS\n",
        "SELECT\n",
        "  company_number,\n",
        "  name,\n",
        "  kind,\n",
        "  officer_role,\n",
        "  occupation,\n",
        "  CAST(date as DATE) as date_of_appointment,\n",
        "  CAST(is_owner as BOOL) as is_owner,\n",
        "  country_of_residence,\n",
        "  -- Overwrite the nationality column to keep only the first nationality\n",
        "  TRIM(SPLIT(nationality, ',')[OFFSET(0)]) AS nationality,\n",
        "FROM\n",
        "  `ba775_a09.officers_and_owners`\n",
        "WHERE\n",
        "  company_number IS NOT NULL"
      ],
      "metadata": {
        "id": "jGMDztoBDZuE"
      },
      "id": "jGMDztoBDZuE",
      "execution_count": null,
      "outputs": []
    },
    {
      "cell_type": "markdown",
      "source": [
        "#**6. Exploratory Phase**"
      ],
      "metadata": {
        "id": "RjySIhpNioxC"
      },
      "id": "RjySIhpNioxC"
    },
    {
      "cell_type": "markdown",
      "source": [
        "*Q1. What is the distribution of companies by their type, and what percentage of the total does each type represent?*"
      ],
      "metadata": {
        "id": "4gJkyZE4zP_f"
      },
      "id": "4gJkyZE4zP_f"
    },
    {
      "cell_type": "code",
      "source": [
        "%%bigquery\n",
        "WITH total AS\n",
        "(\n",
        "  SELECT company_type, COUNT(*) AS total_no_of_companies\n",
        "  FROM `ba775_a09.companies_cleaned`\n",
        "  GROUP BY company_type\n",
        "),\n",
        "overall_total AS\n",
        "(\n",
        "  SELECT COUNT(*) AS total\n",
        "  FROM `ba775_a09.companies_cleaned_partitioned_by_year`\n",
        ")\n",
        "SELECT\n",
        "  company_type,\n",
        "  total_no_of_companies,\n",
        "  (total_no_of_companies / overall_total.total) * 100 AS ratio_percentage,\n",
        "  RANK() OVER (ORDER BY total_no_of_companies DESC) AS companies_rank\n",
        "FROM total, overall_total\n",
        "ORDER BY companies_rank\n",
        "LIMIT 5;"
      ],
      "metadata": {
        "id": "4xU_VDFdit22"
      },
      "id": "4xU_VDFdit22",
      "execution_count": null,
      "outputs": []
    },
    {
      "cell_type": "markdown",
      "source": [
        "Inference: Private limited companies dominate the UK corporate landscape, making up 93% of all companies. This type is particularly attractive to small and medium-sized businesses due to its flexibility, limited liability for shareholders, and relatively simple governance structure. Other types, such as public limited companies and partnerships, represent a much smaller proportion of the market. This indicates that while public companies play a significant role in larger, more capital-intensive industries, the UK economy is primarily driven by privately held businesses.\n",
        "\n",
        "The data also highlights the smaller presence of less common structures like limited liability partnerships, which cater to niche sectors or professional services."
      ],
      "metadata": {
        "id": "-WKLcqKUVmf7"
      },
      "id": "-WKLcqKUVmf7"
    },
    {
      "cell_type": "markdown",
      "source": [
        "*Q2. What are the total percentage of companies in the total jurisdiction?*"
      ],
      "metadata": {
        "id": "-f671V5mE-sh"
      },
      "id": "-f671V5mE-sh"
    },
    {
      "cell_type": "code",
      "source": [
        "%%bigquery\n",
        "SELECT jurisdiction, ROUND(COUNT(company_name) * 100.0 / SUM(COUNT(company_name)) OVER (), 2) AS percentage_of_total_companies\n",
        "FROM `ba775_a09.companies_cleaned_partitioned_by_year`\n",
        "GROUP BY jurisdiction\n",
        "ORDER BY percentage_of_total_companies DESC;"
      ],
      "metadata": {
        "id": "__NSFDFZxH-P"
      },
      "id": "__NSFDFZxH-P",
      "execution_count": null,
      "outputs": []
    },
    {
      "cell_type": "markdown",
      "source": [
        "Inference: England/Wales emerges as the dominant jurisdiction for businesses, reflecting its economic significance and population density. This region not only serves as the UK’s business hub but also attracts a diverse range of industries due to its infrastructure, financial institutions, and accessibility to major markets. Scotland and Northern Ireland, while contributing a smaller share, showcase their roles in specific industries like energy and agriculture. Wales, despite its smaller footprint, has a growing number of businesses, indicating regional efforts to attract investment and stimulate economic growth."
      ],
      "metadata": {
        "id": "7APGhxXxxV0j"
      },
      "id": "7APGhxXxxV0j"
    },
    {
      "cell_type": "markdown",
      "source": [
        "*Q3. How many companies were incorporated in each of the following time periods: pre-2004, 2004-2013, and 2014-2024?*"
      ],
      "metadata": {
        "id": "bwyx1NCZzW-7"
      },
      "id": "bwyx1NCZzW-7"
    },
    {
      "cell_type": "code",
      "source": [
        "%%bigquery\n",
        "select COUNT(company_number) AS count_comp,\n",
        "  COUNT(CASE\n",
        "      WHEN EXTRACT(YEAR FROM c.incorporation_date) <= 2003 THEN company_number\n",
        "  END\n",
        "    ) AS count_pre_2004,\n",
        "  COUNT(CASE\n",
        "      WHEN EXTRACT(YEAR FROM c.incorporation_date) BETWEEN 2004 AND 2013 THEN company_number\n",
        "  END\n",
        "    ) AS count_2004_2013,\n",
        "  COUNT(CASE\n",
        "      WHEN EXTRACT(YEAR FROM c.incorporation_date) BETWEEN 2014 AND 2024 THEN company_number\n",
        "  END\n",
        "    ) AS count_2014_2024,\n",
        "FROM\n",
        "  `ba775_a09.companies_cleaned_partitioned_by_year` as c"
      ],
      "metadata": {
        "id": "2DapRH8Ez1p8"
      },
      "id": "2DapRH8Ez1p8",
      "execution_count": null,
      "outputs": []
    },
    {
      "cell_type": "markdown",
      "source": [
        "Inference: The increasing trend of incorporations over the decades highlights growing entrepreneurial activity in the UK. The sharp rise during the 2014-2024 period could be attributed to advancements in technology, increased access to funding for startups, and supportive government policies. Despite the challenges posed by Brexit and the COVID-19 pandemic, this growth suggests that the UK remains a favorable destination for business formation. The pre-2004 and 2004-2013 periods likely reflect more traditional business structures, whereas the recent growth includes modern, agile startups catering to evolving market demands."
      ],
      "metadata": {
        "id": "FN42i1lumP1Y"
      },
      "id": "FN42i1lumP1Y"
    },
    {
      "cell_type": "markdown",
      "source": [
        "*Q4. Which SIC divisions have seen the highest number of new incorporations in the last decade?*"
      ],
      "metadata": {
        "id": "GXb1fRVmy9eW"
      },
      "id": "GXb1fRVmy9eW"
    },
    {
      "cell_type": "code",
      "source": [
        "%%bigquery\n",
        "\n",
        "-- Which SIC divisions have seen the highest number of new incorporations in the last decade?\n",
        "-- primary to Q12 - column name change to show dates -Yes - add SIC section\n",
        "\n",
        "SELECT sic.sic_section,\n",
        "    sic.sic_division,\n",
        "    COUNT(c.company_number) AS incorporations_2014_24\n",
        "FROM `ba775_a09.companies_cleaned` AS c\n",
        "INNER JOIN `ba775_a09.companies_sic_code_cleaned` AS sic\n",
        "ON c.company_number = sic.company_number\n",
        "WHERE c.incorporation_date BETWEEN '2014-01-01' AND '2024-12-31'\n",
        "GROUP BY sic.sic_section, sic.sic_division\n",
        "ORDER BY incorporations_2014_24 DESC\n",
        "LIMIT 5;\n"
      ],
      "metadata": {
        "id": "poMxGBCFzCUi"
      },
      "id": "poMxGBCFzCUi",
      "execution_count": null,
      "outputs": []
    },
    {
      "cell_type": "markdown",
      "source": [
        "Inference: The surge in incorporations in SIC divisions related to technology, professional services, and e-commerce highlights the changing dynamics of the UK economy. As consumer behavior shifts toward digital solutions and businesses adapt to remote work and online services, these sectors have experienced significant growth. Traditional industries like manufacturing and retail have seen fewer incorporations, suggesting a gradual decline in their prominence. This trend underscores the importance of innovation and adaptability in driving business growth."
      ],
      "metadata": {
        "id": "sfsBFJNg2eoE"
      },
      "id": "sfsBFJNg2eoE"
    },
    {
      "cell_type": "markdown",
      "source": [
        "*Q5. How has the number of companies within each industry (based on SIC section) changed over decades as a percentage increase?*"
      ],
      "metadata": {
        "id": "6oFJlNxHF1cB"
      },
      "id": "6oFJlNxHF1cB"
    },
    {
      "cell_type": "code",
      "source": [
        "%%bigquery\n",
        "SELECT\n",
        " sic.sic_section,\n",
        " sic.sic_division,\n",
        " COUNT(CASE WHEN EXTRACT(YEAR FROM c.incorporation_date) BETWEEN 2004 AND 2013 THEN company_number END) AS count_2004_2013,\n",
        " COUNT(CASE WHEN EXTRACT(YEAR FROM c.incorporation_date) BETWEEN 2014 AND 2024 THEN company_number END) AS count_2014_2024,\n",
        " ROUND(((COUNT(CASE WHEN EXTRACT(YEAR FROM c.incorporation_date) BETWEEN 2014 AND 2024 THEN company_number END) -\n",
        "   COUNT(CASE WHEN EXTRACT(YEAR FROM c.incorporation_date) BETWEEN 2004 AND 2013 THEN company_number END)) /\n",
        "   COUNT(CASE WHEN EXTRACT(YEAR FROM c.incorporation_date) BETWEEN 2004 AND 2013 THEN company_number END)\n",
        " ) * 100,1) AS percentage_jump_2004_2024\n",
        "FROM\n",
        " `ba775_a09.companies_cleaned_partitioned_by_year` AS c\n",
        "LEFT JOIN\n",
        " `ba775_a09.companies_sic_code_cleaned` AS sic\n",
        "USING (company_number)\n",
        "WHERE\n",
        " sic.sic_section IS NOT NULL\n",
        " AND sic.sic_section <> 'Not Specified'\n",
        " AND sic.sic_section <> 'None Supplied'\n",
        " AND sic.sic_code <> '00000'\n",
        "GROUP BY\n",
        " sic.sic_section, sic.sic_division\n",
        "ORDER BY\n",
        " percentage_jump_2004_2024 DESC\n",
        "LIMIT 5;"
      ],
      "metadata": {
        "id": "xAeA7bsFGSqn"
      },
      "id": "xAeA7bsFGSqn",
      "execution_count": null,
      "outputs": []
    },
    {
      "cell_type": "markdown",
      "source": [
        "Inference: The analysis reveals that industries like renewable energy, technology, and healthcare have seen significant percentage increases in new businesses over the past two decades. This reflects a shift in economic priorities toward sustainability, digital transformation, and essential services. Meanwhile, traditional sectors like manufacturing and retail have seen slower growth or even declines, indicating challenges in maintaining relevance in an evolving economy. These changes highlight the importance of fostering innovation and investing in high-growth industries to remain competitive in global markets."
      ],
      "metadata": {
        "id": "ZH6xy5RCy_Jl"
      },
      "id": "ZH6xy5RCy_Jl"
    },
    {
      "cell_type": "markdown",
      "source": [
        "*Q6. Which SIC sections show better financial performance for companies incorporated in the current decade compared to those incorporated in the previous decade?*"
      ],
      "metadata": {
        "id": "AYUYPLQjxbie"
      },
      "id": "AYUYPLQjxbie"
    },
    {
      "cell_type": "code",
      "source": [
        "%%bigquery\n",
        "\n",
        "WITH asset_growth AS (\n",
        "    SELECT\n",
        "        sic.sic_section,\n",
        "        sic.sic_division,\n",
        "        ROUND(SUM(CASE WHEN c.incorporation_date BETWEEN '2004-01-01' AND '2013-12-31' THEN c.current_assets ELSE 0 END) / 1000000, 2) AS totalassets_mil_2004_13,\n",
        "        ROUND(SUM(CASE WHEN c.incorporation_date BETWEEN '2014-01-01' AND '2024-12-31' THEN c.current_assets ELSE 0 END) / 1000000, 2) AS totalassets_mil_2014_24,\n",
        "        ROUND((SUM(CASE WHEN c.incorporation_date BETWEEN '2014-01-01' AND '2024-12-31' THEN c.current_assets ELSE 0 END) -\n",
        "               SUM(CASE WHEN c.incorporation_date BETWEEN '2004-01-01' AND '2013-12-31' THEN c.current_assets ELSE 0 END)) /\n",
        "               SUM(CASE WHEN c.incorporation_date BETWEEN '2004-01-01' AND '2013-12-31' THEN c.current_assets ELSE 0 END) * 100, 2) AS asset_growth_percentage\n",
        "    FROM `ba775_a09.companies_cleaned` AS c\n",
        "    INNER JOIN `ba775_a09.companies_sic_code_cleaned` AS sic\n",
        "    ON c.company_number = sic.company_number\n",
        "    GROUP BY sic.sic_section, sic.sic_division\n",
        ")\n",
        "SELECT *\n",
        "FROM asset_growth\n",
        "ORDER BY asset_growth_percentage DESC\n",
        "LIMIT 5;\n"
      ],
      "metadata": {
        "id": "O03j5fCFxdrt"
      },
      "id": "O03j5fCFxdrt",
      "execution_count": null,
      "outputs": []
    },
    {
      "cell_type": "markdown",
      "source": [
        "Inference: Newly incorporated companies in sectors like finance, healthcare, and technology have outperformed others in terms of asset growth. These sectors benefit from increasing demand for financial services, advancements in medical technology, and the proliferation of digital solutions. In contrast, traditional industries with high capital requirements, such as utilities and manufacturing, may struggle to achieve similar growth due to market saturation and lower flexibility in adapting to new trends."
      ],
      "metadata": {
        "id": "4Yqm0Po7xlWI"
      },
      "id": "4Yqm0Po7xlWI"
    },
    {
      "cell_type": "markdown",
      "source": [
        "*Q7. What is the distribution of companies by status in the dataset throughout the various decades?*\n",
        "\n"
      ],
      "metadata": {
        "id": "J5yXyQPv0s3A"
      },
      "id": "J5yXyQPv0s3A"
    },
    {
      "cell_type": "code",
      "source": [
        "%%bigquery\n",
        "\n",
        "WITH company_counts AS (\n",
        "  SELECT\n",
        "    company_status,\n",
        "    COUNT(company_number) AS count_comp,\n",
        "    ROUND((COUNT(CASE WHEN EXTRACT(YEAR FROM c.incorporation_date) <= 2003 THEN company_number END)\n",
        "        /(SELECT COUNT(company_number)\n",
        "         FROM `ba775_a09.companies_cleaned_partitioned_by_year`\n",
        "         WHERE EXTRACT(YEAR FROM incorporation_date) <= 2003 AND incorporation_date IS NOT NULL)) * 100,2) AS pct_pre_2004,\n",
        "    ROUND((COUNT(CASE WHEN EXTRACT(YEAR FROM c.incorporation_date) BETWEEN 2004 AND 2013 THEN company_number END)\n",
        "        /(SELECT COUNT(company_number)\n",
        "         FROM `ba775_a09.companies_cleaned_partitioned_by_year`\n",
        "         WHERE EXTRACT(YEAR FROM incorporation_date) BETWEEN 2004 AND 2013 AND incorporation_date IS NOT NULL)) * 100,2) AS pct_2004_2013,\n",
        "    ROUND((COUNT(CASE WHEN EXTRACT(YEAR FROM c.incorporation_date) BETWEEN 2014 AND 2024 THEN company_number END)\n",
        "        /(SELECT COUNT(company_number)\n",
        "         FROM `ba775_a09.companies_cleaned_partitioned_by_year`\n",
        "         WHERE EXTRACT(YEAR FROM incorporation_date) BETWEEN 2014 AND 2024 AND incorporation_date IS NOT NULL)) * 100,2) AS pct_2014_2024\n",
        "  FROM\n",
        "    `ba775_a09.companies_cleaned_partitioned_by_year` AS c\n",
        "  WHERE\n",
        "    c.incorporation_date IS NOT NULL\n",
        "  GROUP BY\n",
        "    company_status\n",
        "),\n",
        "overall_counts AS (\n",
        "  SELECT COUNT(company_number) AS total\n",
        "  FROM `ba775_a09.companies_cleaned_partitioned_by_year`\n",
        "  WHERE incorporation_date IS NOT NULL\n",
        ")\n",
        "\n",
        "SELECT\n",
        "  company_status,\n",
        "  count_comp,\n",
        "  pct_pre_2004,\n",
        "  pct_2004_2013,\n",
        "  pct_2014_2024,\n",
        "  RANK() OVER (ORDER BY count_comp DESC) AS count_based_rank\n",
        "FROM company_counts, overall_counts\n",
        "ORDER BY count_based_rank;"
      ],
      "metadata": {
        "id": "kKFbCQYDmt49"
      },
      "id": "kKFbCQYDmt49",
      "execution_count": null,
      "outputs": []
    },
    {
      "cell_type": "markdown",
      "source": [
        "Inference:\n",
        "This analysis will show the distribution of companies by their operational status, such as active or dissolved. By examining the ratio of each status across three time periods companies incorporated before 2004, from 2004 to 2013, and from 2014 to 2024 we can assess trends in market activity and business continuity within the dataset.\n",
        "\n",
        "It appears that the dissolution rate has been increasing each decade, possibly due to financial challenges, compliance requirements, or economic shifts. However, the percentage of companies entering voluntary liquidation has been decreasing over time."
      ],
      "metadata": {
        "id": "ntxQQzcUn9aL"
      },
      "id": "ntxQQzcUn9aL"
    },
    {
      "cell_type": "markdown",
      "source": [
        "*Q8. What is the percentage of dissolved companies by jurisdiction, broken down by decades?*\n"
      ],
      "metadata": {
        "id": "HyVOn_FW8huA"
      },
      "id": "HyVOn_FW8huA"
    },
    {
      "cell_type": "code",
      "source": [
        "%%bigquery\n",
        "\n",
        "SELECT\n",
        "  jurisdiction,\n",
        "  COUNT(company_number) AS total_dissolved,\n",
        "  ROUND(COUNT(CASE WHEN EXTRACT(YEAR FROM incorporation_date) <= 2003 THEN company_number END)*100/COUNT(*),2) AS percent_pre_2004,\n",
        "  ROUND(COUNT(CASE WHEN EXTRACT(YEAR FROM incorporation_date) BETWEEN 2004 AND 2013 THEN company_number END)*100/COUNT(*),2) AS percent_2004_2013,\n",
        "  ROUND(COUNT(CASE WHEN EXTRACT(YEAR FROM incorporation_date) BETWEEN 2014 AND 2024 THEN company_number END)*100/COUNT(*),2) AS percent_2014_2024,\n",
        "FROM  `ba775_a09.companies_cleaned_partitioned_by_year`\n",
        "WHERE  company_status = 'Dissolved'\n",
        "GROUP BY  jurisdiction\n",
        "ORDER BY  total_dissolved DESC\n",
        "LIMIT  5"
      ],
      "metadata": {
        "id": "b4suHjaQEtAb"
      },
      "id": "b4suHjaQEtAb",
      "execution_count": null,
      "outputs": []
    },
    {
      "cell_type": "markdown",
      "source": [
        "Inference: England/Wales has the highest number of dissolved companies, reflecting its dominant share of overall incorporations. However, the increasing dissolution rate in recent years points to economic instability, possibly due to Brexit-related trade barriers, rising operational costs, or the impact of the pandemic. Wales, in particular, shows higher dissolution rates relative to its size, highlighting regional economic challenges that may require targeted intervention to support business continuity."
      ],
      "metadata": {
        "id": "motH9dqLWvef"
      },
      "id": "motH9dqLWvef"
    },
    {
      "cell_type": "markdown",
      "source": [
        "*Q9. What is the survival rate of companies across different SIC divisions, broken down by decades?*"
      ],
      "metadata": {
        "id": "eRBdauXE6WWY"
      },
      "id": "eRBdauXE6WWY"
    },
    {
      "cell_type": "code",
      "source": [
        "%%bigquery\n",
        "\n",
        "WITH joined_data AS (\n",
        "    SELECT\n",
        "        c.company_number,\n",
        "        c.company_status,\n",
        "        s.sic_section,\n",
        "        CASE\n",
        "            WHEN DATE(c.incorporation_date) < DATE('2004-01-01') THEN 'pre-2004'\n",
        "            WHEN DATE(c.incorporation_date) BETWEEN DATE('2004-01-01') AND DATE('2013-12-31') THEN '2004-2013'\n",
        "            WHEN DATE(c.incorporation_date) BETWEEN DATE('2014-01-01') AND DATE('2024-12-31') THEN '2014-2024'\n",
        "            ELSE 'Unknown Period'\n",
        "        END AS period\n",
        "    FROM  `ba775_a09.companies_cleaned_partitioned_by_year` AS c\n",
        "    INNER JOIN  `ba775_a09.companies_sic_code_cleaned` AS s\n",
        "    ON  c.company_number = s.company_number\n",
        "    WHERE  c.incorporation_date IS NOT NULL\n",
        ")\n",
        "SELECT\n",
        "    sic_section AS survival_rate_by_sic_section_,\n",
        "    MAX(CASE WHEN period = 'pre-2004' THEN survival_rate_percentage END) AS `pre-2004`,\n",
        "    MAX(CASE WHEN period = '2004-2013' THEN survival_rate_percentage END) AS `2004-2013`,\n",
        "    MAX(CASE WHEN period = '2014-2024' THEN survival_rate_percentage END) AS `2014-2024`\n",
        "FROM (\n",
        "    SELECT\n",
        "        sic_section,\n",
        "        period,\n",
        "        COUNT(*) AS total_companies,\n",
        "        SUM(CASE WHEN LOWER(company_status) = 'active' THEN 1 ELSE 0 END) AS active_companies,\n",
        "        ROUND(100.0 * SUM(CASE WHEN LOWER(company_status) = 'active' THEN 1 ELSE 0 END) / COUNT(*), 2\n",
        "        ) AS survival_rate_percentage\n",
        "    FROM joined_data\n",
        "    WHERE  period != 'Unknown Period'\n",
        "    GROUP BY sic_section, period\n",
        ") AS grouped_data\n",
        "GROUP BY sic_section\n",
        "ORDER BY `2014-2024` DESC\n",
        "LIMIT 5;"
      ],
      "metadata": {
        "id": "Ep4j5mlB8hOe"
      },
      "id": "Ep4j5mlB8hOe",
      "execution_count": null,
      "outputs": []
    },
    {
      "cell_type": "markdown",
      "source": [
        "Inference: The survival rate of companies across different SIC divisions (sections), when broken down by the periods pre-2004, 2004-2013, and 2014-2024, reveals that while companies generally exhibit high longevity across all sectors, there is a noticeable declining trend over time. Essential service sectors like Electricity, Gas, Steam and Air Conditioning Supply and Human Health and Social Work Activities maintain higher survival rates with less significant declines. In contrast, other sectors experience more substantial decreases, indicating potential challenges for newer companies. Understanding these trends is crucial for stakeholders aiming to improve company survival rates and foster sustainable growth within various industries."
      ],
      "metadata": {
        "id": "Mrq7-GvOcM3J"
      },
      "id": "Mrq7-GvOcM3J"
    },
    {
      "cell_type": "markdown",
      "source": [
        "*Q10. What is the average lifespan of dissolved companies across different SIC sections, and how does this vary by company type?*"
      ],
      "metadata": {
        "id": "RHOyfHIuyLs1"
      },
      "id": "RHOyfHIuyLs1"
    },
    {
      "cell_type": "code",
      "source": [
        "%%bigquery\n",
        "\n",
        "WITH lifespan_data AS (\n",
        "    SELECT\n",
        "        c.company_number,\n",
        "        sic.sic_section,\n",
        "        c.company_type,\n",
        "        DATE_DIFF(c.date_of_cessation, c.incorporation_date, DAY) AS lifespan_days\n",
        "    FROM `ba775_a09.companies_cleaned` AS c\n",
        "    INNER JOIN `ba775_a09.companies_sic_code_cleaned` AS sic\n",
        "    ON c.company_number = sic.company_number\n",
        "    WHERE c.company_status = 'Dissolved'\n",
        ")\n",
        "SELECT\n",
        "    sic_section,\n",
        "    ROUND(AVG(lifespan_days) / 365.0, 2) AS avg_lifespan_years,\n",
        "    COUNT(*) AS dissolved_company_count\n",
        "FROM lifespan_data\n",
        "GROUP BY sic_section\n",
        "ORDER BY dissolved_company_count DESC\n",
        "LIMIT 5;\n"
      ],
      "metadata": {
        "id": "MY_ef2DuyLRT"
      },
      "id": "MY_ef2DuyLRT",
      "execution_count": null,
      "outputs": []
    },
    {
      "cell_type": "markdown",
      "source": [
        "Inference: Companies in essential services, like utilities and healthcare, exhibit longer lifespans before dissolution, reflecting the stability and necessity of these industries. In contrast, companies in volatile sectors like retail and hospitality have shorter lifespans, emphasizing their vulnerability to market fluctuations."
      ],
      "metadata": {
        "id": "721tguaHyzlN"
      },
      "id": "721tguaHyzlN"
    },
    {
      "cell_type": "markdown",
      "source": [
        "*Q11. How do different SIC sections compare in terms of total assets and the number of companies within each section?*"
      ],
      "metadata": {
        "id": "QakvXc6dEtbu"
      },
      "id": "QakvXc6dEtbu"
    },
    {
      "cell_type": "code",
      "source": [
        "%%bigquery\n",
        "\n",
        "SELECT\n",
        "  s.sic_section,\n",
        "  COUNT(c.company_number) AS number_of_companies,\n",
        "  CAST(AVG(c.current_assets)/1000 AS INT64) AS avg_current_assets_k,\n",
        "  CAST(SUM(c.current_assets)/1000000000 AS INT64) AS total_current_assets_bil\n",
        "FROM\n",
        "  `ba775_a09.companies_cleaned_partitioned_by_year` AS c\n",
        "LEFT JOIN\n",
        "  `ba775_a09.companies_sic_code_cleaned` AS s\n",
        "ON\n",
        "  c.company_number = s.company_number\n",
        "WHERE\n",
        "  c.current_assets IS NOT NULL\n",
        "  AND s.sic_section IS NOT NULL\n",
        "GROUP BY\n",
        "  s.sic_section\n",
        "ORDER BY\n",
        "  total_current_assets_bil DESC\n",
        "  LIMIT 5;"
      ],
      "metadata": {
        "id": "e9-cNAwwE-QR"
      },
      "id": "e9-cNAwwE-QR",
      "execution_count": null,
      "outputs": []
    },
    {
      "cell_type": "markdown",
      "source": [
        "Inference: This query analyzes the relationship between industry sectors (SIC sections) and the financial performance of companies in the UK, focusing specifically on the aggregation of current assets. It calculates the total current assets and the number of companies for each SIC section. By grouping the data by SIC section and ordering by total current assets, the query highlights the sectors with the largest cumulative financial assets, offering insights into which industries control the most resources. This data is useful for understanding how wealth is distributed across different industry sectors."
      ],
      "metadata": {
        "id": "OHX95gBTbLn_"
      },
      "id": "OHX95gBTbLn_"
    },
    {
      "cell_type": "markdown",
      "source": [
        "*Q12. Which are the top ten companies with the highest current assets?*"
      ],
      "metadata": {
        "id": "guMZScQuyK1b"
      },
      "id": "guMZScQuyK1b"
    },
    {
      "cell_type": "code",
      "source": [
        "%%bigquery\n",
        "SELECT\n",
        "    company_name,\n",
        "    CONCAT(ROUND(current_assets / 1000000000, 2), 'B') AS current_assets_in_billions,\n",
        "    jurisdiction,\n",
        "    EXTRACT(YEAR FROM incorporation_date) AS incorporation_year,\n",
        "    RANK() OVER (ORDER BY current_assets DESC) AS rank\n",
        "FROM `ba775_a09.companies_cleaned_partitioned_by_year`\n",
        "WHERE current_assets IS NOT NULL\n",
        "ORDER BY current_assets DESC\n",
        "LIMIT 5;"
      ],
      "metadata": {
        "id": "fJbWQfEAxSsh"
      },
      "id": "fJbWQfEAxSsh",
      "execution_count": null,
      "outputs": []
    },
    {
      "cell_type": "markdown",
      "source": [
        "Inference: The result highlights the dominance of England/Wales as a jurisdiction for companies with significant current assets. The top company, Avis Capital Limited, stands out with 73.39B in assets, far exceeding other entities. Other notable companies include International Tax Advisors Limited (18.01B) and Three Aces Industries Limited (10B).\n",
        "\n",
        "The incorporation years range from 1891 to 2021, showcasing a mix of long-established and recently formed companies, reflecting the stable and evolving business environment in England/Wales. The asset values indicate a concentration of wealth among a few top companies, with a diverse range of industries represented, including finance, energy, and real estate. This underlines England/Wales as a thriving hub for business activities."
      ],
      "metadata": {
        "id": "xJga0uBwxcpP"
      },
      "id": "xJga0uBwxcpP"
    },
    {
      "cell_type": "markdown",
      "source": [
        "*Q13. Does ownership rate vary by SIC sections?*"
      ],
      "metadata": {
        "id": "1gri6HzXwqCG"
      },
      "id": "1gri6HzXwqCG"
    },
    {
      "cell_type": "code",
      "source": [
        "%%bigquery\n",
        "\n",
        "WITH ownership_data AS (\n",
        "    SELECT\n",
        "        sic.sic_section,\n",
        "        COUNT(o.name) AS total_officers,\n",
        "        COUNT(CASE WHEN o.is_owner = TRUE THEN 1 END) AS owners_count,\n",
        "        ROUND(COUNT(CASE WHEN o.is_owner = TRUE THEN 1 END) / COUNT(o.name) * 100, 2) AS ownership_rate\n",
        "    FROM `ba775_a09.companies_cleaned` AS c\n",
        "    INNER JOIN `ba775_a09.officers_and_owners_cleaned` AS o\n",
        "    ON c.company_number = o.company_number\n",
        "    INNER JOIN `ba775_a09.companies_sic_code_cleaned` AS sic\n",
        "    ON c.company_number = sic.company_number\n",
        "    GROUP BY sic.sic_section\n",
        ")\n",
        "SELECT *\n",
        "FROM ownership_data\n",
        "ORDER BY ownership_rate DESC\n",
        "LIMIT 5;\n"
      ],
      "metadata": {
        "id": "0nVU8wdKwtws"
      },
      "id": "0nVU8wdKwtws",
      "execution_count": null,
      "outputs": []
    },
    {
      "cell_type": "markdown",
      "source": [
        "Inference: Ownership rates vary significantly across SIC sections. Industries tied to professional services, real estate, and technology exhibit higher ownership rates, reflecting the entrepreneurial nature of these sectors. Conversely, sectors with high capital requirements, like utilities, show lower ownership rates."
      ],
      "metadata": {
        "id": "kEjvBE_iw2cf"
      },
      "id": "kEjvBE_iw2cf"
    },
    {
      "cell_type": "markdown",
      "source": [
        "*Q14. Which companies have the highest numbers of officers and owners?*\n"
      ],
      "metadata": {
        "id": "mY02ve_YFTXQ"
      },
      "id": "mY02ve_YFTXQ"
    },
    {
      "cell_type": "code",
      "source": [
        "%%bigquery\n",
        "\n",
        "SELECT\n",
        "    c.company_name,\n",
        "    c.owners,\n",
        "    c.officers,\n",
        "    (c.owners + c.officers) AS board_count,\n",
        "    RANK() OVER (ORDER BY (c.owners + c.officers) DESC) AS board_rank\n",
        "FROM `ba775_a09.companies_cleaned` AS c\n",
        "LEFT JOIN `ba775-a-09.ba775_a09.companies_sic_code_cleaned` AS s\n",
        "    ON c.company_number = s.company_number\n",
        "WHERE c.owners IS NOT NULL\n",
        "    AND c.officers IS NOT NULL\n",
        "ORDER BY board_count DESC\n",
        "LIMIT 5;"
      ],
      "metadata": {
        "id": "K-C3srOiF07u"
      },
      "id": "K-C3srOiF07u",
      "execution_count": null,
      "outputs": []
    },
    {
      "cell_type": "markdown",
      "source": [
        "Inference: This query retrieves the top 10 companies with the highest total board members (owners and officers combined) from the companies_cleaned dataset. It selects company name, number of owners, number of officers, and calculates the total board count. The results are filtered to include only companies with both owners and officers present, sorted by the board count in descending order."
      ],
      "metadata": {
        "id": "74Zx0JG6bdm8"
      },
      "id": "74Zx0JG6bdm8"
    },
    {
      "cell_type": "markdown",
      "source": [
        "*Q15. How does ownership among officers vary by nationality?*\n"
      ],
      "metadata": {
        "id": "DaUgGgmfz2DN"
      },
      "id": "DaUgGgmfz2DN"
    },
    {
      "cell_type": "code",
      "source": [
        "%%bigquery\n",
        "WITH CleanedWords AS (\n",
        "    SELECT\n",
        "        REGEXP_EXTRACT_ALL(LOWER(nationality), r'\\b[a-zA-Z]+\\b') AS words,\n",
        "        is_owner\n",
        "    FROM `ba775_a09.officers_and_owners_cleaned`\n",
        "),\n",
        "SplitWords AS (\n",
        "    SELECT\n",
        "        INITCAP(word) AS nationality,\n",
        "        is_owner\n",
        "    FROM CleanedWords,\n",
        "    UNNEST(words) AS word\n",
        ")\n",
        "SELECT\n",
        "    nationality,\n",
        "    COUNT(*) AS total_officers,\n",
        "    COUNT(CASE WHEN is_owner = TRUE THEN 1 END) AS owners_count,\n",
        "    COUNT(CASE WHEN is_owner = FALSE THEN 1 END) AS non_owners_count,\n",
        "    ROUND(COUNT(CASE WHEN is_owner = TRUE THEN 1 END) / COUNT(*) * 100, 2) AS ownership_rate\n",
        "FROM SplitWords\n",
        "WHERE nationality NOT IN ('', '-', 'unknown')\n",
        "GROUP BY nationality\n",
        "ORDER BY total_officers DESC\n",
        "LIMIT 10;"
      ],
      "metadata": {
        "id": "xUWYeMOj1BLp"
      },
      "id": "xUWYeMOj1BLp",
      "execution_count": null,
      "outputs": []
    },
    {
      "cell_type": "code",
      "source": [
        "from PIL import Image\n",
        "from IPython.display import display\n",
        "img = Image.open(\"Q15.png\")\n",
        "resized_img = img.resize((500, 500))  # Example size: 500x300 pixels\n",
        "display(resized_img)\n"
      ],
      "metadata": {
        "id": "XE-MLMWBBFN3"
      },
      "id": "XE-MLMWBBFN3",
      "execution_count": null,
      "outputs": []
    },
    {
      "cell_type": "markdown",
      "source": [
        "Inference: Ownership among officers varies notably by nationality. American officers are significantly more likely to be owners compared to their counterparts from other nationalities. Irish and British officers also show a higher tendency towards ownership, albeit to a lesser extent. Conversely, Romanian, Chinese, and Pakistani officers predominantly occupy non-ownership roles.\n",
        "\n",
        "Understanding these variations can be valuable for organizations aiming to foster diversity in ownership and leadership positions. It may also inform policy decisions and initiatives designed to encourage entrepreneurship among underrepresented groups."
      ],
      "metadata": {
        "id": "rn0GBqaAXUX-"
      },
      "id": "rn0GBqaAXUX-"
    },
    {
      "cell_type": "markdown",
      "source": [
        "Q16. What are the most common occupations among individual officers, and how many officers hold each occupation?"
      ],
      "metadata": {
        "id": "USt7Qufg0zUI"
      },
      "id": "USt7Qufg0zUI"
    },
    {
      "cell_type": "code",
      "source": [
        "%%bigquery\n",
        "\n",
        "SELECT\n",
        "  occupation,\n",
        "  COUNT(*) AS num_officers,\n",
        "  RANK() OVER (ORDER BY COUNT(*) DESC) AS rank\n",
        "FROM\n",
        "  `ba775_a09.officers_and_owners_cleaned`\n",
        "WHERE\n",
        "  kind = 'individual'\n",
        "  AND occupation IS NOT NULL\n",
        "GROUP BY\n",
        "  occupation\n",
        "ORDER BY\n",
        "  rank\n",
        "LIMIT 5  ;"
      ],
      "metadata": {
        "id": "6JySn4rk06gA"
      },
      "id": "6JySn4rk06gA",
      "execution_count": null,
      "outputs": []
    },
    {
      "cell_type": "markdown",
      "source": [
        "Inference: Common roles among officers include directors, managers, and consultants, reflecting the need for leadership and strategic expertise in running businesses. The prevalence of these roles highlights the importance of skilled professionals in decision-making and governance. Specialized roles like accountants and legal advisors also appear frequently, indicating their critical contributions to financial and regulatory compliance."
      ],
      "metadata": {
        "id": "Bs3MNzVa1CYj"
      },
      "id": "Bs3MNzVa1CYj"
    },
    {
      "cell_type": "markdown",
      "source": [
        "Q17. What is the distribution of British versus non-British individuals across different occupations in the dataset?\n"
      ],
      "metadata": {
        "id": "Ap87f7yZ2hlE"
      },
      "id": "Ap87f7yZ2hlE"
    },
    {
      "cell_type": "code",
      "source": [
        "%%bigquery\n",
        "\n",
        "SELECT\n",
        "  occupation,\n",
        "  COUNT(*) AS total_individuals,\n",
        "  SUM(CASE WHEN LOWER(nationality) = 'british' THEN 1 ELSE 0 END) AS british_count,\n",
        "  SUM(CASE WHEN LOWER(nationality) != 'british' THEN 1 ELSE 0 END) AS non_british_count,\n",
        "  ROUND(SUM(CASE WHEN LOWER(nationality) = 'british' THEN 1 ELSE 0 END) / COUNT(*) * 100, 2) AS british_percentage,\n",
        "  ROUND(SUM(CASE WHEN LOWER(nationality) != 'british' THEN 1 ELSE 0 END) / COUNT(*) * 100, 2) AS non_british_percentage\n",
        "FROM `ba775_a09.officers_and_owners_cleaned`\n",
        "WHERE occupation IS NOT NULL\n",
        "  AND occupation NOT LIKE 'none'\n",
        "  AND occupation NOT LIKE 'retired'\n",
        "  AND nationality IS NOT NULL\n",
        "GROUP BY occupation\n",
        "ORDER BY total_individuals DESC\n",
        "LIMIT 5;"
      ],
      "metadata": {
        "id": "-MlHLrX56V5x"
      },
      "id": "-MlHLrX56V5x",
      "execution_count": null,
      "outputs": []
    },
    {
      "cell_type": "markdown",
      "source": [
        "Inference: The analysis reveals that while British nationals are the majority in most occupations among officers and owners, there is notable international representation in certain roles. Managerial positions, in particular, show a higher diversity with nearly one-fourth of roles occupied by non-British individuals. This diversity within specific occupations provides valuable insights into how different roles attract talent from various nationalities, highlighting areas where international professionals significantly contribute to the workforce."
      ],
      "metadata": {
        "id": "Tq87GDJgYOfp"
      },
      "id": "Tq87GDJgYOfp"
    },
    {
      "cell_type": "markdown",
      "source": [
        "# **7. Dashboards**"
      ],
      "metadata": {
        "id": "3bqVGlpToHf3"
      },
      "id": "3bqVGlpToHf3"
    },
    {
      "cell_type": "markdown",
      "source": [
        "Due to technical constraints, we were unable to upload the Tableau Desktop dashboard to Tableau Public. Instead, we have included screenshots of the dashboard here for your reference."
      ],
      "metadata": {
        "id": "CHDhHfcHqCn-"
      },
      "id": "CHDhHfcHqCn-"
    },
    {
      "cell_type": "code",
      "source": [
        "display.Image(\"Dashboard1.png\")"
      ],
      "metadata": {
        "id": "sSz3uae1oT5q"
      },
      "id": "sSz3uae1oT5q",
      "execution_count": null,
      "outputs": []
    },
    {
      "cell_type": "code",
      "source": [
        "display.Image(\"Dashboard2.png\")"
      ],
      "metadata": {
        "id": "KnwVoM-woTwl"
      },
      "id": "KnwVoM-woTwl",
      "execution_count": null,
      "outputs": []
    },
    {
      "cell_type": "markdown",
      "source": [
        "#**8. Challenges**"
      ],
      "metadata": {
        "id": "xKhJFfnn31e-"
      },
      "id": "xKhJFfnn31e-"
    },
    {
      "cell_type": "markdown",
      "source": [
        "\n",
        "####Data Cleaning and Preprocessing:\n",
        "Inconsistent and Missing Data: Many columns, such as sic_codes, officers, and average_number_employees_during_period, had significant null values. Cleaning these fields required careful imputation strategies or exclusions.\n",
        "Ambiguous Nationality Data: Parsing and standardizing officer nationality from free-text fields introduced complexity due to varied formats and incomplete entries.\n",
        "Complex Relationships: Establishing meaningful relationships between companies, sic_codes, and officers_and_owners required extensive data wrangling to maintain integrity.\n",
        "\n",
        "####Integration of Multiple Datasets:\n",
        "Datasets like companies_cleaned, filings, and officers_and_owners had to be merged, often requiring transformations and joining on keys like company_number. Discrepancies between datasets, such as missing company_number in certain tables, added complexity.\n",
        "Handling Large Volumes of Data:\n",
        "The dataset contained extensive historical data from 2014 to 2024, making operations computationally expensive. Partitioning tables by years helped, but certain queries remained resource-intensive.\n",
        "Performance optimization, particularly in BigQuery, required adjustments like filtering irrelevant records, indexing, and limiting query scopes.\n",
        "\n",
        "####Complex Queries:\n",
        "Writing advanced SQL queries to answer exploratory questions (e.g., nationality trends, survival rates, and industry growth by decade) often involved multi-step transformations, such as CTEs, window functions, and regular expressions.\n",
        "\n",
        "####Defining Metrics and Insights:\n",
        "Choosing the appropriate metrics (e.g., survival rates, ownership percentages) and ensuring the results aligned with project goals required iterative exploration and validation.\n",
        "Interpreting complex relationships between variables, like the influence of nationality on ownership, required careful analysis and domain understanding.\n",
        "\n",
        "####Visualization and Storytelling:\n",
        "Summarizing multi-dimensional data in meaningful and intuitive visualizations was challenging. Selecting the best visual representation for trends, distributions, and comparisons took considerable effort.\n",
        "Aligning visualizations with the storyline to effectively communicate insights to stakeholders required multiple iterations.\n",
        "\n",
        "####Understanding Economic and Regulatory Context:\n",
        "Linking data insights to real-world factors like Brexit, COVID-19, and regulatory changes was challenging without in-depth contextual research.\n",
        "Some data anomalies required additional context that wasn’t available within the dataset, necessitating external references."
      ],
      "metadata": {
        "id": "U9ovHibv3x1T"
      },
      "id": "U9ovHibv3x1T"
    },
    {
      "cell_type": "markdown",
      "source": [
        "#**9. Conclusion**"
      ],
      "metadata": {
        "id": "SZc2sGlR58Py"
      },
      "id": "SZc2sGlR58Py"
    },
    {
      "cell_type": "markdown",
      "source": [
        "This examination gives insight into some prevailing trends in the UK corporate landscape, shedding light on the dominance of private limited companies, the centrality of England and Wales in economy, along with the rising significance of the technology and healthcare sectors which are increasingly innovation-led. While the dwindling of the older economies persists, some sectors like finance and utilities are showing resilience in line with changes in the market landscape. The analysis also shows a notable diversity in leadership, with foreigners playing a big role in highly specialized functions and varying patterns of ownership across investor nationality. Nevertheless, increasing closure rates, especially in the last few years, pointed to an economic squeeze, while an appeal for assistance became even more vital. A true abundance of information for policymakers, investors, and business leaders can be most helpful in nurturing innovation, assisting SMEs, and responding to fluctuating economic conditions in sustaining growth and resilience in the economy of the UK."
      ],
      "metadata": {
        "id": "jmlJr3f3jsPR"
      },
      "id": "jmlJr3f3jsPR"
    },
    {
      "cell_type": "markdown",
      "source": [
        "#**10. References**"
      ],
      "metadata": {
        "id": "YiLblp1Nj1HU"
      },
      "id": "YiLblp1Nj1HU"
    },
    {
      "cell_type": "markdown",
      "source": [
        "1. Kaggle: https://www.kaggle.com/datasets/rzykov/uk-corporate-data-company-house-2023/data\n",
        "\n",
        "2. CorpSignals: https://corpsignals.com/\n",
        "\n",
        "3. SIC search: https://www.osha.gov/data/sic-search"
      ],
      "metadata": {
        "id": "oHgp4820fUp2"
      },
      "id": "oHgp4820fUp2"
    },
    {
      "cell_type": "markdown",
      "source": [
        "#**11. Generative AI Disclosure**"
      ],
      "metadata": {
        "id": "rc4ttiKWj5Lf"
      },
      "id": "rc4ttiKWj5Lf"
    },
    {
      "cell_type": "markdown",
      "source": [
        "Using Generative AI tools facilitated the analysis and reporting in different phases of this project. In summary, here are various aspects involved:\n",
        "\n",
        "Business Idea Generation: ChatGPT facilitated brainstorming activities and was instrumental in the initial outline of the project. Ideas for specific business problems were generated along with the best possible data visualizations, taking into account the project context.\n",
        "\n",
        "Research Assistance: ChatGPT provided dataset summaries for quicker understanding of data and researched alternative energy vehicle types to expedite topical exploration.\n",
        "\n",
        "Code Review and Debugging: ChatGPT and Gemini played willing collaborators in optimizing code performance and debugging issues that would otherwise have prevented steady progress on the project. These tools were also integral in producing the customized code that applied specific color schemes to visualizations.\n",
        "\n",
        "Proofreading and Grammar Checks: Word and Google Docs undertook spelling and grammar checks to guarantee precision and professionalism.\n",
        "\n",
        "All outputs of AI were assessed by our team and were checked for accuracy, originality, and compliance with academic integrity standards."
      ],
      "metadata": {
        "id": "LLC0NH9FkBC7"
      },
      "id": "LLC0NH9FkBC7"
    }
  ],
  "metadata": {
    "kernelspec": {
      "display_name": "Python 3",
      "language": "python",
      "name": "python3"
    },
    "language_info": {
      "codemirror_mode": {
        "name": "ipython",
        "version": 3
      },
      "file_extension": ".py",
      "mimetype": "text/x-python",
      "name": "python",
      "nbconvert_exporter": "python",
      "pygments_lexer": "ipython3",
      "version": "3.10.10"
    },
    "colab": {
      "provenance": [],
      "include_colab_link": true
    }
  },
  "nbformat": 4,
  "nbformat_minor": 5
}